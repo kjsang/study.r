{
  "nbformat": 4,
  "nbformat_minor": 0,
  "metadata": {
    "colab": {
      "name": "Rcode",
      "provenance": [],
      "authorship_tag": "ABX9TyNWMe+6MoE+cCfzy/iqDPBt",
      "include_colab_link": true
    },
    "kernelspec": {
      "name": "ir",
      "display_name": "R"
    },
    "language_info": {
      "name": "R"
    }
  },
  "cells": [
    {
      "cell_type": "markdown",
      "metadata": {
        "id": "view-in-github",
        "colab_type": "text"
      },
      "source": [
        "<a href=\"https://colab.research.google.com/github/kjsang/study.r/blob/main/Rcode.ipynb\" target=\"_parent\"><img src=\"https://colab.research.google.com/assets/colab-badge.svg\" alt=\"Open In Colab\"/></a>"
      ]
    },
    {
      "cell_type": "code",
      "execution_count": null,
      "metadata": {
        "colab": {
          "base_uri": "https://localhost:8080/",
          "height": 35
        },
        "id": "PhqiBnimE92z",
        "outputId": "b91b396d-dfa8-465d-bc63-7af63b2f0070"
      },
      "outputs": [
        {
          "output_type": "display_data",
          "data": {
            "text/plain": [
              "[1] ‘4.2.1’"
            ]
          },
          "metadata": {}
        }
      ],
      "source": [
        "package_version(R.version)"
      ]
    },
    {
      "cell_type": "code",
      "source": [
        "install.packages(\"pacman\")"
      ],
      "metadata": {
        "colab": {
          "base_uri": "https://localhost:8080/"
        },
        "id": "J1R6X_eMFK6_",
        "outputId": "2e3e628c-6418-4995-cd98-24ce7aeb59df"
      },
      "execution_count": null,
      "outputs": [
        {
          "output_type": "stream",
          "name": "stderr",
          "text": [
            "Installing package into ‘/usr/local/lib/R/site-library’\n",
            "(as ‘lib’ is unspecified)\n",
            "\n"
          ]
        }
      ]
    },
    {
      "cell_type": "code",
      "source": [
        "pacman::p_load(\n",
        "  tidyverse, tidytext, tidymodels\n",
        ")"
      ],
      "metadata": {
        "colab": {
          "base_uri": "https://localhost:8080/"
        },
        "id": "5hc5LVw_FSd0",
        "outputId": "a5046e26-a925-4ebd-fba7-b765bbffabce"
      },
      "execution_count": null,
      "outputs": [
        {
          "output_type": "stream",
          "name": "stderr",
          "text": [
            "Installing package into ‘/usr/local/lib/R/site-library’\n",
            "(as ‘lib’ is unspecified)\n",
            "\n",
            "also installing the dependencies ‘Rcpp’, ‘SnowballC’, ‘hunspell’, ‘janeaustenr’, ‘tokenizers’\n",
            "\n",
            "\n",
            "\n",
            "tidytext installed\n",
            "\n",
            "Installing package into ‘/usr/local/lib/R/site-library’\n",
            "(as ‘lib’ is unspecified)\n",
            "\n",
            "also installing the dependencies ‘future.apply’, ‘progressr’, ‘numDeriv’, ‘SQUAREM’, ‘lava’, ‘listenv’, ‘parallelly’, ‘prodlim’, ‘future’, ‘warp’, ‘iterators’, ‘lhs’, ‘DiceDesign’, ‘patchwork’, ‘globals’, ‘gower’, ‘ipred’, ‘timeDate’, ‘furrr’, ‘slider’, ‘foreach’, ‘GPfit’, ‘conflicted’, ‘dials’, ‘hardhat’, ‘infer’, ‘modeldata’, ‘parsnip’, ‘recipes’, ‘rsample’, ‘tune’, ‘workflows’, ‘workflowsets’, ‘yardstick’\n",
            "\n",
            "\n",
            "\n",
            "tidymodels installed\n",
            "\n"
          ]
        }
      ]
    },
    {
      "cell_type": "code",
      "source": [
        "remotes::install_github(\"bit2r/bitTA\")"
      ],
      "metadata": {
        "colab": {
          "base_uri": "https://localhost:8080/"
        },
        "id": "EBOdsbYPKWGh",
        "outputId": "2a7e8480-2dd7-4d02-d73f-5ee18df68e80"
      },
      "execution_count": null,
      "outputs": [
        {
          "output_type": "stream",
          "name": "stderr",
          "text": [
            "Downloading GitHub repo bit2r/bitTA@HEAD\n",
            "\n"
          ]
        },
        {
          "output_type": "stream",
          "name": "stdout",
          "text": [
            "pillar      (1.7.0 -> 1.8.1  ) [CRAN]\n",
            "tibble      (3.1.7 -> 3.1.8  ) [CRAN]\n",
            "later       (NA    -> 1.3.0  ) [CRAN]\n",
            "promises    (NA    -> 1.2.0.1) [CRAN]\n",
            "stringr     (1.4.0 -> 1.4.1  ) [CRAN]\n",
            "sourcetools (NA    -> 0.1.7  ) [CRAN]\n",
            "fontawesome (NA    -> 0.3.0  ) [CRAN]\n",
            "xtable      (NA    -> 1.8-4  ) [CRAN]\n",
            "httpuv      (NA    -> 1.6.5  ) [CRAN]\n",
            "shiny       (NA    -> 1.7.2  ) [CRAN]\n",
            "rstudioapi  (0.13  -> 0.14   ) [CRAN]\n",
            "ngram       (NA    -> 3.2.1  ) [CRAN]\n"
          ]
        },
        {
          "output_type": "stream",
          "name": "stderr",
          "text": [
            "Installing 12 packages: pillar, tibble, later, promises, stringr, sourcetools, fontawesome, xtable, httpuv, shiny, rstudioapi, ngram\n",
            "\n",
            "Installing packages into ‘/usr/local/lib/R/site-library’\n",
            "(as ‘lib’ is unspecified)\n",
            "\n"
          ]
        },
        {
          "output_type": "stream",
          "name": "stdout",
          "text": [
            "* checking for file ‘/tmp/Rtmp8kmTDZ/remotes3b6132ba7/bit2r-bitTA-a71acf8/DESCRIPTION’ ... OK\n",
            "* preparing ‘bitTA’:\n",
            "* checking DESCRIPTION meta-information ... OK\n",
            "* checking for LF line-endings in source and make files and shell scripts\n",
            "* checking for empty or unneeded directories\n",
            "  NB: this package now depends on R (>= 3.5.0)\n",
            "  WARNING: Added dependency on R >= 3.5.0 because serialized objects in\n",
            "  serialize/load version 3 cannot be read in older versions of R.\n",
            "  File(s) containing such objects:\n",
            "    ‘bitTA/data/buzz.rda’ ‘bitTA/data/movie_ratings_test.rda’\n",
            "    ‘bitTA/data/movie_ratings_train.rda’\n",
            "    ‘bitTA/data/president_speech.rda’ ‘bitTA/data/rest_area.rda’\n",
            "    ‘bitTA/data/sentiment_dic.rda’\n",
            "* building ‘bitTA_1.3.0.9004.tar.gz’\n",
            "\n"
          ]
        },
        {
          "output_type": "stream",
          "name": "stderr",
          "text": [
            "Installing package into ‘/usr/local/lib/R/site-library’\n",
            "(as ‘lib’ is unspecified)\n",
            "\n"
          ]
        }
      ]
    },
    {
      "cell_type": "code",
      "source": [
        "phone <- data.frame(\n",
        "  key = c(\"김유신\", \"장보고\", \"이순신\"),\n",
        "  value = c(\"010-1234-5678\", \"010-2345-6789\", \"010-0000-0000\")\n",
        ")\n",
        "print(phone)"
      ],
      "metadata": {
        "colab": {
          "base_uri": "https://localhost:8080/"
        },
        "id": "F6e2fymVpX66",
        "outputId": "52e4b2f8-828b-4f9f-a997-db89c0c878ea"
      },
      "execution_count": 3,
      "outputs": [
        {
          "output_type": "stream",
          "name": "stdout",
          "text": [
            "     key         value\n",
            "1 김유신 010-1234-5678\n",
            "2 장보고 010-2345-6789\n",
            "3 이순신 010-0000-0000\n"
          ]
        }
      ]
    },
    {
      "cell_type": "code",
      "source": [
        "one <- 1\n",
        "2 -> two\n",
        "three = 3\n",
        "\n",
        "print(one)\n",
        "print(two)\n",
        "print(three)"
      ],
      "metadata": {
        "colab": {
          "base_uri": "https://localhost:8080/"
        },
        "id": "-1zt9dykvd2d",
        "outputId": "1fc14871-0635-43a3-f72d-57447571bd64"
      },
      "execution_count": 5,
      "outputs": [
        {
          "output_type": "stream",
          "name": "stdout",
          "text": [
            "[1] 1\n",
            "[1] 2\n",
            "[1] 3\n"
          ]
        }
      ]
    },
    {
      "cell_type": "code",
      "source": [
        "for(X in 1:20) {\n",
        "  if( X%%2 == 1) {\n",
        "    print(X)\n",
        "  }\n",
        "}"
      ],
      "metadata": {
        "colab": {
          "base_uri": "https://localhost:8080/"
        },
        "id": "Ga82T8uAv1d1",
        "outputId": "3992e684-b89a-42ec-839f-6bac7f6fbc98"
      },
      "execution_count": 15,
      "outputs": [
        {
          "output_type": "stream",
          "name": "stdout",
          "text": [
            "[1] 1\n",
            "[1] 3\n",
            "[1] 5\n",
            "[1] 7\n",
            "[1] 9\n",
            "[1] 11\n",
            "[1] 13\n",
            "[1] 15\n",
            "[1] 17\n",
            "[1] 19\n"
          ]
        }
      ]
    },
    {
      "cell_type": "code",
      "source": [],
      "metadata": {
        "id": "DVK7ilpPv22q"
      },
      "execution_count": null,
      "outputs": []
    }
  ]
}